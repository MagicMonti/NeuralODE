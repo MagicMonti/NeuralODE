{
 "cells": [
  {
   "cell_type": "code",
   "execution_count": 1,
   "metadata": {},
   "outputs": [
    {
     "name": "stdout",
     "output_type": "stream",
     "text": [
      "Using cuda device\n"
     ]
    }
   ],
   "source": [
    "import math\n",
    "import numpy as np\n",
    "from IPython.display import clear_output\n",
    "from tqdm import tqdm_notebook as tqdm\n",
    "\n",
    "import matplotlib.pyplot as plt\n",
    "\n",
    "\n",
    "import torch\n",
    "#from torch import Tensor as tensor\n",
    "from torch import nn\n",
    "from torch.nn  import functional as F\n",
    "from torch.autograd import Variable\n",
    "\n",
    "from scipy.integrate import odeint\n",
    "from scipy.integrate import RK45\n",
    "\n",
    "\n",
    "from torch.autograd.functional import jacobian\n",
    "\n",
    "\n",
    "\n",
    "use_cuda = torch.cuda.is_available() #also worsk for AMD-ROCm\n",
    "device = \"cuda\" if torch.cuda.is_available() else \"cpu\"\n",
    "print(f\"Using {device} device\")\n"
   ]
  },
  {
   "cell_type": "markdown",
   "metadata": {},
   "source": [
    "# Pendelum\n",
    "$$\\frac{d^2 \\theta}{dt^2}  +  \\lambda\\frac{d\\theta}{dt} +  \\frac{g}{l}sin(\\theta) $$"
   ]
  },
  {
   "cell_type": "code",
   "execution_count": 2,
   "metadata": {},
   "outputs": [],
   "source": [
    "def pend(y,t,b,c):\n",
    "    theta, omega = y\n",
    "    dydt = [omega, -b*omega - c*np.sin(theta)]\n",
    "    return dydt\n",
    "\n",
    "b = 0.25\n",
    "c = 5\n",
    "\n",
    "theta_0 = np.pi\n",
    "omega_0 = 1\n",
    " \n",
    "y0 = [theta_0 , omega_0]\n",
    "\n",
    "t_final = 10\n",
    "\n",
    "t = np.arange(0, 10, 0.01)\n",
    "\n",
    "sol = odeint(pend,y0, t, args=(b,c))\n"
   ]
  },
  {
   "cell_type": "code",
   "execution_count": 3,
   "metadata": {},
   "outputs": [],
   "source": [
    "theta = sol[:, 0]\n",
    "omega = sol[:, 1]"
   ]
  },
  {
   "cell_type": "code",
   "execution_count": 4,
   "metadata": {},
   "outputs": [
    {
     "data": {
      "image/png": "[encoded data removed]",
      "text/plain": [
       "<Figure size 640x480 with 1 Axes>"
      ]
     },
     "metadata": {},
     "output_type": "display_data"
    }
   ],
   "source": [
    "plt.plot(t, theta, 'b', label='theta(t)')\n",
    "plt.plot(t, omega, 'g', label='omega(t)')\n",
    "plt.legend(loc='best')\n",
    "plt.xlabel('t')\n",
    "plt.show()"
   ]
  },
  {
   "cell_type": "markdown",
   "metadata": {},
   "source": [
    "# Neural ODE with ajoint-sensitivity-method"
   ]
  },
  {
   "cell_type": "code",
   "execution_count": 5,
   "metadata": {},
   "outputs": [],
   "source": [
    "def euler_forward(func, x_i, t_i, t_f, delta_t, return_seq=False):\n",
    "    time = torch.arange(start=t_i, end=t_f, step=delta_t, requires_grad=False)\n",
    "    x = x_i.clone().detach() #makes copy of init-tensor and remvoes gradients\n",
    "    #x = x_i\n",
    "    if not return_seq:\n",
    "        for t in time:\n",
    "            #x += delta_t*func(x)\n",
    "            x = x + delta_t * func(x)\n",
    "        return x\n",
    "    if return_seq:\n",
    "        x_list = []\n",
    "        for t in time:\n",
    "            x = x + delta_t * func(x)\n",
    "            x_list.append(x)\n",
    "        return torch.tensor(x_list)"
   ]
  },
  {
   "cell_type": "code",
   "execution_count": 6,
   "metadata": {},
   "outputs": [],
   "source": [
    "class ODEF(nn.Module):\n",
    "    def forward_with_grad(self):\n",
    "        pass\n",
    "    def flatten_parameters(self):\n",
    "        flat_parameters = []\n",
    "        for param in self.parameters():\n",
    "            flat_parameters.append(param.flatten())\n",
    "        return torch.cat(flat_parameters)"
   ]
  },
  {
   "cell_type": "code",
   "execution_count": 16,
   "metadata": {},
   "outputs": [],
   "source": [
    "class PendelumNetwork(ODEF):\n",
    "    def __init__(self):\n",
    "        super(PendelumNetwork, self).__init__()\n",
    "        self.linear_relu_stack = nn.Sequential(\n",
    "            nn.Linear(1, 5, dtype=float),\n",
    "            nn.ReLU(),\n",
    "            nn.Linear(5, 10, dtype=float),\n",
    "            nn.ReLU(),\n",
    "            nn.Linear(10, 10, dtype=float),\n",
    "            nn.ReLU(),\n",
    "            nn.Linear(10, 5, dtype=float),\n",
    "            nn.ReLU(),\n",
    "            nn.Linear(5, 1, dtype=float)\n",
    "        )\n",
    "    def forward(self, x):\n",
    "        return self.linear_relu_stack(x)"
   ]
  },
  {
   "cell_type": "code",
   "execution_count": 129,
   "metadata": {},
   "outputs": [],
   "source": [
    "class PendelumFunction(ODEF):\n",
    "    def __init__(self):\n",
    "        super(PendelumFunction, self).__init__()\n",
    "        #a*sin(b*x + c)\n",
    "        \n",
    "        self.a = nn.Parameter(torch.tensor(1, dtype=float))\n",
    "        self.b = nn.Parameter(torch.tensor(1, dtype=float))\n",
    "        self.c = nn.Parameter(torch.tensor(1, dtype=float))\n",
    "\n",
    "    def forward(self, x):\n",
    "        return self.a*torch.sin(self.b*x + self.c)\n"
   ]
  },
  {
   "cell_type": "code",
   "execution_count": 20,
   "metadata": {},
   "outputs": [],
   "source": [
    "class ODEAdjoint(torch.autograd.Function):\n",
    "    @staticmethod\n",
    "    def forward(ctx, x_i, t_i, t_f, flat_parameters, func, delta_t , return_whole_seq=False):\n",
    "        assert isinstance(func, ODEF)\n",
    "\n",
    "        with torch.no_grad():\n",
    "            if return_whole_seq:\n",
    "                return euler_forward(func, x_i, t_i, t_f, delta_t, True)#\n",
    "            else:\n",
    "                output = euler_forward(func, x_i, t_i, t_f, delta_t, False)\n",
    "                ctx.func = func\n",
    "                ctx.save_for_backward(torch.tensor(t_f), output.clone(), flat_parameters)\n",
    "                return output\n",
    "        \n",
    "    \n",
    "    @staticmethod\n",
    "    def backward(ctx, gradient):\n",
    "        pass"
   ]
  },
  {
   "cell_type": "code",
   "execution_count": 14,
   "metadata": {},
   "outputs": [],
   "source": [
    "class NeuralODE(nn.Module):\n",
    "    def __init__(self, func, delta_t):\n",
    "        super(NeuralODE, self).__init__()\n",
    "        assert isinstance(func, ODEF)\n",
    "        self.func = func\n",
    "        self.delta_t = delta_t\n",
    "    \n",
    "    def forward(self, x_i, t_i , t_f, return_whole_seq=False):\n",
    "        return ODEAdjoint.apply(x_i, t_i, t_f, self.func.flatten_parameters(), self.func, self.delta_t, return_whole_seq)\n",
    "        "
   ]
  },
  {
   "cell_type": "code",
   "execution_count": 10,
   "metadata": {},
   "outputs": [
    {
     "data": {
      "text/plain": [
       "75"
      ]
     },
     "execution_count": 10,
     "metadata": {},
     "output_type": "execute_result"
    }
   ],
   "source": [
    "#create training and testing dataset\n",
    "#input are tuples of (x_i, t_i,t_f)\n",
    "#output are x_f, \n",
    "#select init and output at random\n",
    "\n",
    "N = 100\n",
    "\n",
    "index_input = np.random.randint(len(t), size=N)\n",
    "index_output = np.random.randint(len(t), size=N)\n",
    "\n",
    "data_set = []\n",
    "\n",
    "for i in range(N):\n",
    "\n",
    "    t_i = t[index_input[i]]\n",
    "    t_f = t[index_output[i]]\n",
    "\n",
    "    x_i = theta[index_input[i]]\n",
    "    x_f = theta[index_output[i]]\n",
    "\n",
    "    if t_i > t_f:\n",
    "        #swap values\n",
    "        t_temp = t_f\n",
    "        t_f = t_i\n",
    "        t_i = t_temp\n",
    "\n",
    "        x_temp = x_f\n",
    "        x_f = x_i\n",
    "        x_i = x_temp\n",
    "\n",
    "    data_set.append(((torch.tensor([x_i], requires_grad=False, dtype=float), t_i, t_f), torch.tensor([x_f],dtype=float ,requires_grad=False)))\n",
    "trianing_dataset = data_set[:int(N*0.75)]\n",
    "testing_dataset = data_set[int(N*0.75):]\n",
    "len(trianing_dataset)"
   ]
  },
  {
   "cell_type": "code",
   "execution_count": 21,
   "metadata": {},
   "outputs": [
    {
     "ename": "RuntimeError",
     "evalue": "function ODEAdjointBackward returned an incorrect number of gradients (expected 7, got 1)",
     "output_type": "error",
     "traceback": [
      "\u001b[0;31m---------------------------------------------------------------------------\u001b[0m",
      "\u001b[0;31mRuntimeError\u001b[0m                              Traceback (most recent call last)",
      "Cell \u001b[0;32mIn [21], line 18\u001b[0m\n\u001b[1;32m     15\u001b[0m loss \u001b[39m=\u001b[39m \u001b[39m1\u001b[39m\u001b[39m/\u001b[39m\u001b[39m2\u001b[39m \u001b[39m*\u001b[39m (prediction \u001b[39m-\u001b[39m real_value)\u001b[39m*\u001b[39m\u001b[39m*\u001b[39m\u001b[39m2\u001b[39m\n\u001b[1;32m     17\u001b[0m optimizer\u001b[39m.\u001b[39mzero_grad()\n\u001b[0;32m---> 18\u001b[0m loss\u001b[39m.\u001b[39;49mbackward(retain_graph\u001b[39m=\u001b[39;49m\u001b[39mFalse\u001b[39;49;00m)\n\u001b[1;32m     19\u001b[0m optimizer\u001b[39m.\u001b[39mstep()\n\u001b[1;32m     20\u001b[0m avg_los \u001b[39m+\u001b[39m\u001b[39m=\u001b[39m loss\u001b[39m.\u001b[39mitem()\n",
      "File \u001b[0;32m~/.local/lib/python3.10/site-packages/torch/_tensor.py:487\u001b[0m, in \u001b[0;36mTensor.backward\u001b[0;34m(self, gradient, retain_graph, create_graph, inputs)\u001b[0m\n\u001b[1;32m    477\u001b[0m \u001b[39mif\u001b[39;00m has_torch_function_unary(\u001b[39mself\u001b[39m):\n\u001b[1;32m    478\u001b[0m     \u001b[39mreturn\u001b[39;00m handle_torch_function(\n\u001b[1;32m    479\u001b[0m         Tensor\u001b[39m.\u001b[39mbackward,\n\u001b[1;32m    480\u001b[0m         (\u001b[39mself\u001b[39m,),\n\u001b[0;32m   (...)\u001b[0m\n\u001b[1;32m    485\u001b[0m         inputs\u001b[39m=\u001b[39minputs,\n\u001b[1;32m    486\u001b[0m     )\n\u001b[0;32m--> 487\u001b[0m torch\u001b[39m.\u001b[39;49mautograd\u001b[39m.\u001b[39;49mbackward(\n\u001b[1;32m    488\u001b[0m     \u001b[39mself\u001b[39;49m, gradient, retain_graph, create_graph, inputs\u001b[39m=\u001b[39;49minputs\n\u001b[1;32m    489\u001b[0m )\n",
      "File \u001b[0;32m~/.local/lib/python3.10/site-packages/torch/autograd/__init__.py:197\u001b[0m, in \u001b[0;36mbackward\u001b[0;34m(tensors, grad_tensors, retain_graph, create_graph, grad_variables, inputs)\u001b[0m\n\u001b[1;32m    192\u001b[0m     retain_graph \u001b[39m=\u001b[39m create_graph\n\u001b[1;32m    194\u001b[0m \u001b[39m# The reason we repeat same the comment below is that\u001b[39;00m\n\u001b[1;32m    195\u001b[0m \u001b[39m# some Python versions print out the first line of a multi-line function\u001b[39;00m\n\u001b[1;32m    196\u001b[0m \u001b[39m# calls in the traceback and some print out the last line\u001b[39;00m\n\u001b[0;32m--> 197\u001b[0m Variable\u001b[39m.\u001b[39;49m_execution_engine\u001b[39m.\u001b[39;49mrun_backward(  \u001b[39m# Calls into the C++ engine to run the backward pass\u001b[39;49;00m\n\u001b[1;32m    198\u001b[0m     tensors, grad_tensors_, retain_graph, create_graph, inputs,\n\u001b[1;32m    199\u001b[0m     allow_unreachable\u001b[39m=\u001b[39;49m\u001b[39mTrue\u001b[39;49;00m, accumulate_grad\u001b[39m=\u001b[39;49m\u001b[39mTrue\u001b[39;49;00m)\n",
      "\u001b[0;31mRuntimeError\u001b[0m: function ODEAdjointBackward returned an incorrect number of gradients (expected 7, got 1)"
     ]
    }
   ],
   "source": [
    "#training\n",
    "epoch = 100\n",
    "delta_t = 0.01\n",
    "func = PendelumNetwork()\n",
    "#func = PendelumFunction()\n",
    "model = NeuralODE(func, delta_t)\n",
    "optimizer = torch.optim.Adam(model.parameters(), lr=0.01)\n",
    "\n",
    "\n",
    "for k in range(epoch):\n",
    "    avg_los = 0\n",
    "    for i in range(len(trianing_dataset)):\n",
    "        (x_i, t_i, t_f), real_value = trianing_dataset[i] \n",
    "        prediction = model(x_i, t_i, t_f)\n",
    "        loss = 1/2 * (prediction - real_value)**2\n",
    "\n",
    "        optimizer.zero_grad()\n",
    "        loss.backward(retain_graph=False)\n",
    "        optimizer.step()\n",
    "        avg_los += loss.item()\n",
    "        break\n",
    "    if k%10==0:\n",
    "        print(avg_los/len(trianing_dataset))\n",
    "        prediction = model(torch.tensor([theta[0]]), 0, t[-1], True)\n",
    "        plt.plot(t, theta, 'b', label='theta(t)')\n",
    "        plt.plot(t[:-1],prediction)\n",
    "        plt.show()\n"
   ]
  },
  {
   "cell_type": "code",
   "execution_count": 123,
   "metadata": {},
   "outputs": [
    {
     "name": "stdout",
     "output_type": "stream",
     "text": [
      "Parameter containing:\n",
      "tensor(1.0000, dtype=torch.float64, requires_grad=True)\n",
      "Parameter containing:\n",
      "tensor(8.9950, dtype=torch.float64, requires_grad=True)\n",
      "Parameter containing:\n",
      "tensor(0.0176, dtype=torch.float64, requires_grad=True)\n"
     ]
    }
   ],
   "source": [
    "for param in func.parameters():\n",
    "    print(param)"
   ]
  },
  {
   "cell_type": "code",
   "execution_count": null,
   "metadata": {},
   "outputs": [],
   "source": [
    "def one_euler_backward_step(func,x_1,delta_t):\n",
    "    x = x_1.clone().detach()\n",
    "    x -= delta_t * func(x)\n",
    "    return x\n",
    "\n",
    "def one_adjoint_backward_step(func, x_1, a_1, delta_t):\n",
    "\n",
    "    a = a_1.clone().detach() \n",
    "    x = x_1.clone().detach()\n",
    "    a -= delta_t * a * jacobian(func, x)\n",
    "\n",
    "    return a\n",
    "\n",
    "\n",
    "\n",
    "def get_gradient_with_respect_to_params(func, x):\n",
    "    x = x.clone().detach()\n",
    "    func(x).mean().backward()\n",
    "    grads = []\n",
    "    for param in func.parameters():\n",
    "        grads.append(param.grad.view(-1))\n",
    "    grads = torch.cat(grads)\n",
    "    f.zero_grad #<--- doesn't work\n",
    "    return grads\n",
    "\n",
    "def get_dL_dtheta(func, a_1, x_1, t_0, t_1, delta_t):\n",
    "    time = torch.arange(start=t_0, end=t_1, step=delta_t, requires_grad=False)\n",
    "    a = a_1.clone().detach() \n",
    "    x = x_1.clone().detach()\n",
    "    result = torch.zeros( (a * get_gradient_with_respect_to_params(func, x)).shape)\n",
    "    for t in time:\n",
    "        result -= delta_t * a * get_gradient_with_respect_to_params(func, x)\n",
    "        a = one_adjoint_backward_step(func, x, a, delta_t)\n",
    "        x = one_euler_backward_step(func, x, delta_t)\n",
    "    return result\n",
    "\n",
    "\n",
    "def Loss_function(prediction):\n",
    "    return (1/2  *  (theta[-1] - prediction)**2)\n",
    "    "
   ]
  },
  {
   "cell_type": "code",
   "execution_count": null,
   "metadata": {},
   "outputs": [
    {
     "data": {
      "text/plain": [
       "tensor([3.5308], dtype=torch.float64, grad_fn=<AddBackward0>)"
      ]
     },
     "execution_count": 8,
     "metadata": {},
     "output_type": "execute_result"
    }
   ],
   "source": [
    "x_1 = euler_forward(f, x_0, 0, t_final,delta_t, False)\n",
    "x_1"
   ]
  },
  {
   "cell_type": "code",
   "execution_count": null,
   "metadata": {},
   "outputs": [
    {
     "data": {
      "text/plain": [
       "tensor([2.1752], dtype=torch.float64, grad_fn=<MulBackward0>)"
      ]
     },
     "execution_count": 10,
     "metadata": {},
     "output_type": "execute_result"
    }
   ],
   "source": [
    "loss = Loss_function(x_1)\n",
    "loss"
   ]
  },
  {
   "cell_type": "code",
   "execution_count": null,
   "metadata": {},
   "outputs": [
    {
     "data": {
      "text/plain": [
       "tensor([[-2.0857]], dtype=torch.float64)"
      ]
     },
     "execution_count": 11,
     "metadata": {},
     "output_type": "execute_result"
    }
   ],
   "source": [
    "a_1 = jacobian(Loss_function, x_1)\n",
    "a_1"
   ]
  },
  {
   "cell_type": "code",
   "execution_count": null,
   "metadata": {},
   "outputs": [
    {
     "data": {
      "text/plain": [
       "tensor([[  5182.3940,   2615.4062, -62377.1914,   3572.2505,   2093.1956,\n",
       "          20063.4766,    464.5010,   1353.3417,   1707.2321,   1040.1328,\n",
       "           3030.5242,   3822.8762,   1118.2527,   3258.1165,   4110.0825,\n",
       "           8105.8228,  18150.9785,  19514.4199,  11215.4150,  15596.4209,\n",
       "           8865.2666,  37163.9062]])"
      ]
     },
     "execution_count": 23,
     "metadata": {},
     "output_type": "execute_result"
    }
   ],
   "source": [
    "get_dL_dtheta(f, a_1, x_1, 0, t_final, delta_t)"
   ]
  },
  {
   "cell_type": "code",
   "execution_count": null,
   "metadata": {},
   "outputs": [],
   "source": [
    "for param in f.parameters():\n",
    "    param.data = nn.parameter.Parameter(torch.rand_like(param))\n",
    "\n",
    "# Sanity check-\n"
   ]
  },
  {
   "cell_type": "code",
   "execution_count": null,
   "metadata": {},
   "outputs": [
    {
     "name": "stdout",
     "output_type": "stream",
     "text": [
      "Parameter containing:\n",
      "tensor([[0.2703],\n",
      "        [0.6653],\n",
      "        [0.0603]], dtype=torch.float64, requires_grad=True)\n",
      "Parameter containing:\n",
      "tensor([0.0263, 0.2417, 0.4640], dtype=torch.float64, requires_grad=True)\n",
      "Parameter containing:\n",
      "tensor([[0.8103, 0.1916, 0.5303],\n",
      "        [0.8317, 0.3430, 0.2151],\n",
      "        [0.2263, 0.2908, 0.9295]], dtype=torch.float64, requires_grad=True)\n",
      "Parameter containing:\n",
      "tensor([0.3784, 0.6403, 0.1921], dtype=torch.float64, requires_grad=True)\n",
      "Parameter containing:\n",
      "tensor([[0.4109, 0.9200, 0.9891]], dtype=torch.float64, requires_grad=True)\n",
      "Parameter containing:\n",
      "tensor([0.0126], dtype=torch.float64, requires_grad=True)\n"
     ]
    }
   ],
   "source": [
    "for param in f.parameters():\n",
    "    print(param)"
   ]
  }
 ],
 "metadata": {
  "kernelspec": {
   "display_name": "Python 3",
   "language": "python",
   "name": "python3"
  },
  "language_info": {
   "codemirror_mode": {
    "name": "ipython",
    "version": 3
   },
   "file_extension": ".py",
   "mimetype": "text/x-python",
   "name": "python",
   "nbconvert_exporter": "python",
   "pygments_lexer": "ipython3",
   "version": "3.10.8"
  },
  "orig_nbformat": 4,
  "vscode": {
   "interpreter": {
    "hash": "e7370f93d1d0cde622a1f8e1c04877d8463912d04d973331ad4851f04de6915a"
   }
  }
 },
 "nbformat": 4,
 "nbformat_minor": 2
}

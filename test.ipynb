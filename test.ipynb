{
 "cells": [
  {
   "cell_type": "code",
   "execution_count": 24,
   "metadata": {},
   "outputs": [
    {
     "name": "stdout",
     "output_type": "stream",
     "text": [
      "Using cpu device\n"
     ]
    }
   ],
   "source": [
    "import math\n",
    "import numpy as np\n",
    "from IPython.display import clear_output\n",
    "from tqdm import tqdm_notebook as tqdm\n",
    "\n",
    "import matplotlib.pyplot as plt\n",
    "\n",
    "\n",
    "import torch\n",
    "#from torch import Tensor as tensor\n",
    "from torch import nn\n",
    "from torch.nn  import functional as F\n",
    "from torch.autograd import Variable\n",
    "\n",
    "from scipy.integrate import odeint\n",
    "from scipy.integrate import RK45\n",
    "\n",
    "import torchdiffeq\n",
    "\n",
    "from torch.autograd.functional import jacobian\n",
    "\n",
    "\n",
    "\n",
    "use_cuda = torch.cuda.is_available() #also worsk for AMD-ROCm\n",
    "device = \"cuda\" if torch.cuda.is_available() else \"cpu\"\n",
    "print(f\"Using {device} device\")\n"
   ]
  },
  {
   "cell_type": "markdown",
   "metadata": {},
   "source": [
    "# Pendelum\n",
    "$$\\frac{d^2 \\theta}{dt^2}  +  \\lambda\\frac{d\\theta}{dt} +  \\frac{g}{l}sin(\\theta) $$"
   ]
  },
  {
   "cell_type": "code",
   "execution_count": 2,
   "metadata": {},
   "outputs": [],
   "source": [
    "def pend(y,t,b,c):\n",
    "    theta, omega = y\n",
    "    dydt = [omega, -b*omega - c*np.sin(theta)]\n",
    "    return dydt\n",
    "\n",
    "b = 0.25\n",
    "c = 5\n",
    "\n",
    "theta_0 = np.pi\n",
    "omega_0 = 1\n",
    " \n",
    "y0 = [theta_0 , omega_0]\n",
    "\n",
    "t_final = 10\n",
    "\n",
    "t = np.linspace(0,t_final,101)\n",
    "\n",
    "sol = odeint(pend,y0, t, args=(b,c))\n"
   ]
  },
  {
   "cell_type": "code",
   "execution_count": 3,
   "metadata": {},
   "outputs": [],
   "source": [
    "theta = sol[:, 0]\n",
    "omega = sol[:, 1]"
   ]
  },
  {
   "cell_type": "code",
   "execution_count": 4,
   "metadata": {},
   "outputs": [
    {
     "data": {
      "image/png": "[encoded data removed]",
      "text/plain": [
       "<Figure size 432x288 with 1 Axes>"
      ]
     },
     "metadata": {
      "needs_background": "light"
     },
     "output_type": "display_data"
    }
   ],
   "source": [
    "plt.plot(t, theta, 'b', label='theta(t)')\n",
    "plt.plot(t, omega, 'g', label='omega(t)')\n",
    "plt.legend(loc='best')\n",
    "plt.xlabel('t')\n",
    "plt.show()"
   ]
  },
  {
   "cell_type": "code",
   "execution_count": 5,
   "metadata": {},
   "outputs": [],
   "source": [
    "class NeuralNetwork(nn.Module):\n",
    "    def __init__(self):\n",
    "        super().__init__()\n",
    "        self.linear_relu_stack = nn.Sequential(\n",
    "            nn.Linear(1, 3, dtype=float),\n",
    "            nn.ReLU(),\n",
    "            nn.Linear(3, 3, dtype=float),\n",
    "            nn.ReLU(),\n",
    "            nn.Linear(3, 1, dtype=float)\n",
    "        )\n",
    "\n",
    "    def forward(self, x):\n",
    "        return self.linear_relu_stack(x)\n",
    "\n",
    "f = NeuralNetwork().to(device)"
   ]
  },
  {
   "cell_type": "code",
   "execution_count": 6,
   "metadata": {},
   "outputs": [],
   "source": [
    "x_0 = torch.tensor([np.pi], dtype=float, requires_grad=True)\n",
    "delta_t = 0.01"
   ]
  },
  {
   "cell_type": "code",
   "execution_count": 7,
   "metadata": {},
   "outputs": [],
   "source": [
    "def euler_forward(func, x_0, t_0, t_1, delta_t, return_seq):\n",
    "    time = torch.arange(start=t_0, end=t_1, step=delta_t, requires_grad=False)\n",
    "    x = x_0.clone().detach() #makes copy of init-tensor and remvoes gradients\n",
    "    if not return_seq:\n",
    "        for t in time:\n",
    "            x += delta_t*func(x)\n",
    "        return x\n",
    "    if return_seq:\n",
    "        x_list = []\n",
    "        for t in time:\n",
    "            x += delta_t*func(x)\n",
    "            x_list.append(x)\n",
    "        return torch.tensor(x_list)\n",
    "\n",
    "\n",
    "def one_euler_backward_step(func,x_1,delta_t):\n",
    "    x = x_1.clone().detach()\n",
    "    x -= delta_t * func(x)\n",
    "    return x\n",
    "\n",
    "def one_adjoint_backward_step(func, x_1, a_1, delta_t):\n",
    "\n",
    "    a = a_1.clone().detach() \n",
    "    x = x_1.clone().detach()\n",
    "    a -= delta_t * a * jacobian(func, x)\n",
    "\n",
    "    return a\n",
    "\n",
    "\n",
    "\n",
    "def get_gradient_with_respect_to_params(func, x):\n",
    "    x = x.clone().detach()\n",
    "    func(x).mean().backward()\n",
    "    grads = []\n",
    "    for param in func.parameters():\n",
    "        grads.append(param.grad.view(-1))\n",
    "    grads = torch.cat(grads)\n",
    "    f.zero_grad #<--- doesn't work\n",
    "    return grads\n",
    "\n",
    "def get_dL_dtheta(func, a_1, x_1, t_0, t_1, delta_t):\n",
    "    time = torch.arange(start=t_0, end=t_1, step=delta_t, requires_grad=False)\n",
    "    a = a_1.clone().detach() \n",
    "    x = x_1.clone().detach()\n",
    "    result = torch.zeros( (a * get_gradient_with_respect_to_params(func, x)).shape)\n",
    "    for t in time:\n",
    "        result -= delta_t * a * get_gradient_with_respect_to_params(func, x)\n",
    "        a = one_adjoint_backward_step(func, x, a, delta_t)\n",
    "        x = one_euler_backward_step(func, x, delta_t)\n",
    "    return result\n",
    "\n",
    "\n",
    "def Loss_function(prediction):\n",
    "    return (1/2  *  (theta[-1] - prediction)**2)\n",
    "    "
   ]
  },
  {
   "cell_type": "code",
   "execution_count": 8,
   "metadata": {},
   "outputs": [
    {
     "data": {
      "text/plain": [
       "tensor([3.5308], dtype=torch.float64, grad_fn=<AddBackward0>)"
      ]
     },
     "execution_count": 8,
     "metadata": {},
     "output_type": "execute_result"
    }
   ],
   "source": [
    "x_1 = euler_forward(f, x_0, 0, t_final,delta_t, False)\n",
    "x_1"
   ]
  },
  {
   "cell_type": "code",
   "execution_count": 10,
   "metadata": {},
   "outputs": [
    {
     "data": {
      "text/plain": [
       "tensor([2.1752], dtype=torch.float64, grad_fn=<MulBackward0>)"
      ]
     },
     "execution_count": 10,
     "metadata": {},
     "output_type": "execute_result"
    }
   ],
   "source": [
    "loss = Loss_function(x_1)\n",
    "loss"
   ]
  },
  {
   "cell_type": "code",
   "execution_count": 11,
   "metadata": {},
   "outputs": [
    {
     "data": {
      "text/plain": [
       "tensor([[-2.0857]], dtype=torch.float64)"
      ]
     },
     "execution_count": 11,
     "metadata": {},
     "output_type": "execute_result"
    }
   ],
   "source": [
    "a_1 = jacobian(Loss_function, x_1)\n",
    "a_1"
   ]
  },
  {
   "cell_type": "code",
   "execution_count": 23,
   "metadata": {},
   "outputs": [
    {
     "data": {
      "text/plain": [
       "tensor([[  5182.3940,   2615.4062, -62377.1914,   3572.2505,   2093.1956,\n",
       "          20063.4766,    464.5010,   1353.3417,   1707.2321,   1040.1328,\n",
       "           3030.5242,   3822.8762,   1118.2527,   3258.1165,   4110.0825,\n",
       "           8105.8228,  18150.9785,  19514.4199,  11215.4150,  15596.4209,\n",
       "           8865.2666,  37163.9062]])"
      ]
     },
     "execution_count": 23,
     "metadata": {},
     "output_type": "execute_result"
    }
   ],
   "source": [
    "get_dL_dtheta(f, a_1, x_1, 0, t_final, delta_t)"
   ]
  },
  {
   "cell_type": "code",
   "execution_count": 18,
   "metadata": {},
   "outputs": [],
   "source": [
    "for param in f.parameters():\n",
    "    param.data = nn.parameter.Parameter(torch.rand_like(param))\n",
    "\n",
    "# Sanity check-\n"
   ]
  },
  {
   "cell_type": "code",
   "execution_count": 19,
   "metadata": {},
   "outputs": [
    {
     "name": "stdout",
     "output_type": "stream",
     "text": [
      "Parameter containing:\n",
      "tensor([[0.2703],\n",
      "        [0.6653],\n",
      "        [0.0603]], dtype=torch.float64, requires_grad=True)\n",
      "Parameter containing:\n",
      "tensor([0.0263, 0.2417, 0.4640], dtype=torch.float64, requires_grad=True)\n",
      "Parameter containing:\n",
      "tensor([[0.8103, 0.1916, 0.5303],\n",
      "        [0.8317, 0.3430, 0.2151],\n",
      "        [0.2263, 0.2908, 0.9295]], dtype=torch.float64, requires_grad=True)\n",
      "Parameter containing:\n",
      "tensor([0.3784, 0.6403, 0.1921], dtype=torch.float64, requires_grad=True)\n",
      "Parameter containing:\n",
      "tensor([[0.4109, 0.9200, 0.9891]], dtype=torch.float64, requires_grad=True)\n",
      "Parameter containing:\n",
      "tensor([0.0126], dtype=torch.float64, requires_grad=True)\n"
     ]
    }
   ],
   "source": [
    "for param in f.parameters():\n",
    "    print(param)"
   ]
  },
  {
   "cell_type": "code",
   "execution_count": null,
   "metadata": {},
   "outputs": [],
   "source": [
    "\n",
    "optimizer = optim.RMSprop(f.parameters(), lr=1e-3)\n",
    "\n",
    "for itr in range(1, args.niters + 1):\n",
    "    optimizer.zero_grad()\n",
    "    batch_y0, batch_t, batch_y = get_batch()\n",
    "    pred_y = odeint(func, batch_y0, batch_t).to(device)\n",
    "    loss = torch.mean(torch.abs(pred_y - batch_y))\n",
    "    loss.backward()\n",
    "    optimizer.step()\n",
    "\n",
    "    time_meter.update(time.time() - end)\n",
    "    loss_meter.update(loss.item())\n",
    "\n",
    "    if itr % args.test_freq == 0:\n",
    "        with torch.no_grad():\n",
    "            pred_y = odeint(func, true_y0, t)\n",
    "            loss = torch.mean(torch.abs(pred_y - true_y))\n",
    "            print('Iter {:04d} | Total Loss {:.6f}'.format(itr, loss.item()))\n",
    "            visualize(true_y, pred_y, func, ii)\n",
    "            ii += 1\n",
    "\n",
    "    end = time.time()"
   ]
  }
 ],
 "metadata": {
  "kernelspec": {
   "display_name": "Python 3",
   "language": "python",
   "name": "python3"
  },
  "language_info": {
   "codemirror_mode": {
    "name": "ipython",
    "version": 3
   },
   "file_extension": ".py",
   "mimetype": "text/x-python",
   "name": "python",
   "nbconvert_exporter": "python",
   "pygments_lexer": "ipython3",
   "version": "3.10.8"
  },
  "orig_nbformat": 4,
  "vscode": {
   "interpreter": {
    "hash": "e7370f93d1d0cde622a1f8e1c04877d8463912d04d973331ad4851f04de6915a"
   }
  }
 },
 "nbformat": 4,
 "nbformat_minor": 2
}

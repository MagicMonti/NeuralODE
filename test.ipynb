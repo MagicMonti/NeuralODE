{
 "cells": [
  {
   "cell_type": "code",
   "execution_count": 1,
   "metadata": {},
   "outputs": [
    {
     "name": "stdout",
     "output_type": "stream",
     "text": [
      "Using cpu device\n"
     ]
    }
   ],
   "source": [
    "import math\n",
    "import numpy as np\n",
    "from IPython.display import clear_output\n",
    "from tqdm import tqdm_notebook as tqdm\n",
    "\n",
    "import matplotlib.pyplot as plt\n",
    "\n",
    "\n",
    "import torch\n",
    "#from torch import Tensor as tensor\n",
    "from torch import nn\n",
    "from torch.nn  import functional as F\n",
    "from torch.autograd import Variable\n",
    "\n",
    "from scipy.integrate import odeint\n",
    "from scipy.integrate import RK45\n",
    "\n",
    "\n",
    "from torch.autograd.functional import jacobian\n",
    "import random\n",
    "\n",
    "\n",
    "\n",
    "use_cuda = torch.cuda.is_available() #also worsk for AMD-ROCm\n",
    "device = \"cuda\" if torch.cuda.is_available() else \"cpu\"\n",
    "print(f\"Using {device} device\")\n"
   ]
  },
  {
   "cell_type": "markdown",
   "metadata": {},
   "source": [
    "# Pendelum\n",
    "$$\\frac{d^2 \\theta}{dt^2}  +  \\lambda\\frac{d\\theta}{dt} +  \\frac{g}{l}sin(\\theta) $$"
   ]
  },
  {
   "cell_type": "code",
   "execution_count": 2,
   "metadata": {},
   "outputs": [],
   "source": [
    "def pend(y,t,b,c):\n",
    "    theta, omega = y\n",
    "    dydt = [omega, -b*omega - c*np.sin(theta)]\n",
    "    return dydt\n",
    "\n",
    "b = 0.25\n",
    "c = 5\n",
    "\n",
    "theta_0 = np.pi\n",
    "omega_0 = 1\n",
    " \n",
    "y0 = [theta_0 , omega_0]\n",
    "\n",
    "t_final = 10\n",
    "\n",
    "t = np.arange(0, 10, 0.01)\n",
    "\n",
    "sol = odeint(pend,y0, t, args=(b,c))\n"
   ]
  },
  {
   "cell_type": "code",
   "execution_count": 3,
   "metadata": {},
   "outputs": [],
   "source": [
    "theta = sol[:, 0]\n",
    "omega = sol[:, 1]"
   ]
  },
  {
   "cell_type": "code",
   "execution_count": 4,
   "metadata": {},
   "outputs": [
    {
     "data": {
      "image/png": "[encoded data removed]",
      "text/plain": [
       "<Figure size 432x288 with 1 Axes>"
      ]
     },
     "metadata": {
      "needs_background": "light"
     },
     "output_type": "display_data"
    }
   ],
   "source": [
    "plt.plot(t, theta, 'b', label='theta(t)')\n",
    "plt.plot(t, omega, 'g', label='omega(t)')\n",
    "plt.legend(loc='best')\n",
    "plt.xlabel('t')\n",
    "plt.show()"
   ]
  },
  {
   "cell_type": "markdown",
   "metadata": {},
   "source": [
    "# Neural ODE with ajoint-sensitivity-method"
   ]
  },
  {
   "cell_type": "code",
   "execution_count": 5,
   "metadata": {},
   "outputs": [],
   "source": [
    "def euler_forward(func, x_i, t_i, t_f, delta_t, return_seq=False):\n",
    "    time = torch.arange(start=t_i, end=t_f, step=delta_t, requires_grad=False)\n",
    "    x = x_i.clone().detach() #makes copy of init-tensor and remvoes gradients\n",
    "    #x = x_i\n",
    "    if not return_seq:\n",
    "        for t in time:\n",
    "            #x += delta_t*func(x)\n",
    "            x = x + delta_t * func(x)\n",
    "        return x\n",
    "    if return_seq:\n",
    "        x_list = []\n",
    "        for t in time:\n",
    "            x = x + delta_t * func(x)\n",
    "            x_list.append(x)\n",
    "        return torch.tensor(x_list)"
   ]
  },
  {
   "cell_type": "code",
   "execution_count": 6,
   "metadata": {},
   "outputs": [],
   "source": [
    "class ODEF(nn.Module):\n",
    "    def forward_with_grad(self):\n",
    "        pass\n",
    "    def flatten_parameters(self):\n",
    "        flat_parameters = []\n",
    "        for param in self.parameters():\n",
    "            flat_parameters.append(param.flatten())\n",
    "        return torch.cat(flat_parameters)"
   ]
  },
  {
   "cell_type": "code",
   "execution_count": 12,
   "metadata": {},
   "outputs": [],
   "source": [
    "class PendelumNetwork(ODEF):\n",
    "    def __init__(self):\n",
    "        super(PendelumNetwork, self).__init__()\n",
    "        self.linear_relu_stack = nn.Sequential(\n",
    "            nn.Linear(1, 10, dtype=float),\n",
    "            nn.ReLU(),\n",
    "            nn.Linear(10, 10, dtype=float),\n",
    "            nn.ReLU(),\n",
    "            nn.Linear(10, 1, dtype=float)\n",
    "        )\n",
    "    def forward(self, x):\n",
    "        return self.linear_relu_stack(x)"
   ]
  },
  {
   "cell_type": "code",
   "execution_count": 8,
   "metadata": {},
   "outputs": [],
   "source": [
    "class ODEAdjoint(torch.autograd.Function):\n",
    "    @staticmethod\n",
    "    def forward(ctx, x_i, t_i, t_f, flat_parameters, func, delta_t , return_whole_seq=False):\n",
    "        assert isinstance(func, ODEF)\n",
    "\n",
    "        with torch.no_grad():\n",
    "            if return_whole_seq:\n",
    "                return euler_forward(func, x_i, t_i, t_f, delta_t, True)\n",
    "                #nof ctx since this part is only used for evaluation\n",
    "            else:\n",
    "                output = euler_forward(func, x_i, t_i, t_f, delta_t, False)\n",
    "                ctx.func = func\n",
    "                #ctx.save_for_backward(torch.tensor(t_f, dtype=float), output.clone(), flat_parameters)\n",
    "                return output\n",
    "        \n",
    "    \n",
    "    @staticmethod\n",
    "    def backward(ctx, grad_outputs):\n",
    "        #TODO\n",
    "        return grad_outputs, None, None, None, None, None, None"
   ]
  },
  {
   "cell_type": "code",
   "execution_count": 9,
   "metadata": {},
   "outputs": [],
   "source": [
    "class NeuralODE(nn.Module):\n",
    "    def __init__(self, func, delta_t):\n",
    "        super(NeuralODE, self).__init__()\n",
    "        assert isinstance(func, ODEF)\n",
    "        self.func = func\n",
    "        self.delta_t = delta_t\n",
    "    \n",
    "    def forward(self, x_i, t_i , t_f, return_whole_seq=False):\n",
    "        #returns x_f\n",
    "        #return ODEAdjoint.apply(x_i, t_i, t_f, self.func.flatten_parameters(), self.func, self.delta_t, return_whole_seq)\n",
    "        if return_whole_seq:\n",
    "            return euler_forward(self.func, x_i, t_i, t_f, self.delta_t, True)\n",
    "        else:\n",
    "            return euler_forward(self.func, x_i, t_i, t_f, self.delta_t, False)\n",
    "        "
   ]
  },
  {
   "cell_type": "code",
   "execution_count": 17,
   "metadata": {},
   "outputs": [
    {
     "name": "stdout",
     "output_type": "stream",
     "text": [
      "0.3\n"
     ]
    },
    {
     "data": {
      "text/plain": [
       "[((tensor([3.3858], dtype=torch.float64), 0.24, 0.54),\n",
       "  tensor([3.7763], dtype=torch.float64)),\n",
       " ((tensor([5.2613], dtype=torch.float64), 3.56, 3.86),\n",
       "  tensor([4.8275], dtype=torch.float64)),\n",
       " ((tensor([6.5752], dtype=torch.float64), 4.95, 5.25),\n",
       "  tensor([7.2200], dtype=torch.float64)),\n",
       " ((tensor([5.3182], dtype=torch.float64), 7.0200000000000005, 7.32),\n",
       "  tensor([5.3915], dtype=torch.float64)),\n",
       " ((tensor([6.6197], dtype=torch.float64), 9.14, 9.440000000000001),\n",
       "  tensor([6.1448], dtype=torch.float64))]"
      ]
     },
     "execution_count": 17,
     "metadata": {},
     "output_type": "execute_result"
    }
   ],
   "source": [
    "#create training and testing dataset\n",
    "#input are tuples of (x_i, t_i,t_f)\n",
    "#output are x_f, \n",
    "#select init and output at random\n",
    "\n",
    "N = 100\n",
    "diff_t = 30 #index = in time staps\n",
    "delta_t = t[diff_t]\n",
    "\n",
    "print(delta_t)\n",
    "\n",
    "data_set = []\n",
    "\n",
    "while len(data_set) < N:\n",
    "\n",
    "    index = int(random.uniform(0, len(t)))\n",
    "\n",
    "    if t[index]+delta_t > t[-1]:\n",
    "        continue\n",
    "\n",
    "    t_i = t[index]\n",
    "    t_f = t[index]+delta_t\n",
    "\n",
    "    x_i = theta[index]\n",
    "    \n",
    "    x_f = theta[index+diff_t]\n",
    "    \n",
    "    data_set.append(((torch.tensor([x_i], requires_grad=False, dtype=float), t_i, t_f), torch.tensor([x_f],dtype=float ,requires_grad=False)))\n",
    "\n",
    "trianing_dataset = data_set[:int(N*0.75)]\n",
    "testing_dataset = data_set[int(N*0.75):]\n",
    "trianing_dataset[:5]"
   ]
  },
  {
   "cell_type": "code",
   "execution_count": 19,
   "metadata": {},
   "outputs": [
    {
     "data": {
      "text/plain": [
       "75"
      ]
     },
     "execution_count": 19,
     "metadata": {},
     "output_type": "execute_result"
    }
   ],
   "source": [
    "N = 100\n",
    "\n",
    "index_input = np.random.randint(len(t), size=N)\n",
    "index_output = np.random.randint(len(t), size=N)\n",
    "\n",
    "data_set = []\n",
    "\n",
    "for i in range(N):\n",
    "\n",
    "    t_i = t[index_input[i]]\n",
    "    t_f = t[index_output[i]]\n",
    "\n",
    "    x_i = theta[index_input[i]]\n",
    "    x_f = theta[index_output[i]]\n",
    "\n",
    "    if t_i > t_f:\n",
    "        #swap values\n",
    "        t_temp = t_f\n",
    "        t_f = t_i\n",
    "        t_i = t_temp\n",
    "\n",
    "        x_temp = x_f\n",
    "        x_f = x_i\n",
    "        x_i = x_temp\n",
    "\n",
    "    data_set.append(((torch.tensor([x_i], requires_grad=False, dtype=float), t_i, t_f), torch.tensor([x_f],dtype=float ,requires_grad=False)))\n",
    "trianing_dataset = data_set[:int(N*0.75)]\n",
    "testing_dataset = data_set[int(N*0.75):]\n",
    "len(trianing_dataset)"
   ]
  },
  {
   "cell_type": "code",
   "execution_count": 20,
   "metadata": {},
   "outputs": [
    {
     "name": "stdout",
     "output_type": "stream",
     "text": [
      "training  2.342421287318735\n",
      "validation  0.26712893510846586\n",
      "training  1.7938773624699573\n",
      "validation  0.24606060848157804\n",
      "training  1.6694071896592158\n",
      "validation  0.23212584489415236\n",
      "training  1.5718024829222528\n",
      "validation  0.22769331546239774\n",
      "training  1.4905912672256068\n",
      "validation  0.2237635678591722\n",
      "training  1.4187514697446513\n",
      "validation  0.21908478046555535\n",
      "training  1.3566638889569693\n",
      "validation  0.2124031433791796\n",
      "training  1.2999628903136347\n",
      "validation  0.2058152185394196\n",
      "training  1.2486612181686163\n",
      "validation  0.2006998971435272\n",
      "training  1.2059485739560012\n",
      "validation  0.19119856136518246\n",
      "training  1.1634181042777834\n",
      "validation  0.18328529879875616\n",
      "training  1.1269538867455837\n",
      "validation  0.1743413248272782\n",
      "training  1.0924748970068863\n",
      "validation  0.165506021406594\n",
      "training  1.0607595068050577\n",
      "validation  0.15697943828330627\n",
      "training  1.0315223364057102\n",
      "validation  0.14883464579878694\n",
      "training  1.0045115188188172\n",
      "validation  0.14109325042683846\n",
      "training  0.9793976746862929\n",
      "validation  0.1337850827998675\n",
      "training  0.9560616804846687\n",
      "validation  0.12689139118849505\n",
      "training  0.9342076450247244\n",
      "validation  0.12043200794215465\n",
      "training  0.9136848401527777\n",
      "validation  0.11441856853827033\n"
     ]
    },
    {
     "data": {
      "image/png": "[encoded data removed]",
      "text/plain": [
       "<Figure size 432x288 with 1 Axes>"
      ]
     },
     "metadata": {
      "needs_background": "light"
     },
     "output_type": "display_data"
    }
   ],
   "source": [
    "#training\n",
    "epoch = 20\n",
    "delta_t = 0.01\n",
    "func = PendelumNetwork()\n",
    "#func = PendelumFunction()\n",
    "model = NeuralODE(func, delta_t)\n",
    "optimizer = torch.optim.SGD(model.parameters(), lr=0.001)\n",
    "\n",
    "\n",
    "for k in range(epoch):\n",
    "    avg_los = 0\n",
    "    for i in range(len(trianing_dataset)):\n",
    "        (x_i, t_i, t_f), real_value = trianing_dataset[i]\n",
    "        prediction = model(x_i, t_i, t_f)\n",
    "        loss = 1/2 * (prediction - real_value)**2\n",
    "\n",
    "        optimizer.zero_grad()\n",
    "        loss.backward(retain_graph=False)\n",
    "        optimizer.step()\n",
    "        avg_los += loss.item()\n",
    "    if k%1==0:\n",
    "        avg_los_2 = 0\n",
    "        for i in range(len(testing_dataset)):\n",
    "            (x_i_, t_i_, t_f_), real_value_ = testing_dataset[i]\n",
    "            prediction_ = model(x_i_, t_i_, t_f_)\n",
    "            loss_ = 1/2 * (prediction_ - real_value_)**2\n",
    "            avg_los_2 += loss.item()\n",
    "\n",
    "        avg_los = avg_los/len(trianing_dataset)\n",
    "        avg_los_2 = avg_los_2/len(trianing_dataset)\n",
    "        print(\"training \",avg_los)\n",
    "        print(\"validation \",avg_los_2)\n",
    "\n",
    "prediction = model(torch.tensor([theta[0]],dtype=float), 0, t[-1], True)\n",
    "plt.plot(np.arange(0, 10, delta_t)[:-1],prediction, label=avg_los)\n",
    "plt.plot(t, theta, 'b')\n",
    "plt.legend()\n",
    "plt.show()\n"
   ]
  },
  {
   "cell_type": "code",
   "execution_count": 15,
   "metadata": {},
   "outputs": [
    {
     "name": "stdout",
     "output_type": "stream",
     "text": [
      "Parameter containing:\n",
      "tensor([[-0.2061],\n",
      "        [ 0.5115],\n",
      "        [-0.2945],\n",
      "        [ 0.7730],\n",
      "        [-0.0943]], dtype=torch.float64, requires_grad=True)\n",
      "Parameter containing:\n",
      "tensor([ 0.0474, -0.4959, -0.5188,  0.1165, -0.2114], dtype=torch.float64,\n",
      "       requires_grad=True)\n",
      "Parameter containing:\n",
      "tensor([[ 0.2400, -0.3428, -0.1377, -0.4458,  0.0499],\n",
      "        [-0.1358, -0.1711, -0.1300, -0.0418, -0.2952],\n",
      "        [ 0.3372,  0.2582,  0.1066,  0.2561,  0.0012],\n",
      "        [ 0.1928, -0.2528,  0.2621,  0.0827,  0.3912],\n",
      "        [ 0.0692,  0.2765,  0.2331, -0.2453,  0.1037],\n",
      "        [-0.2266, -0.1717, -0.4061, -0.3857,  0.3716],\n",
      "        [ 0.2715, -0.0337,  0.0405,  0.0794,  0.0793],\n",
      "        [-0.3630, -0.0604,  0.1407, -0.0228,  0.4403],\n",
      "        [-0.2267,  0.0911, -0.0667, -0.3614, -0.1328],\n",
      "        [-0.0657, -0.5091, -0.3616,  0.0782,  0.3137]], dtype=torch.float64,\n",
      "       requires_grad=True)\n",
      "Parameter containing:\n",
      "tensor([ 0.0046, -0.2312, -0.1231,  0.1419,  0.3083, -0.3773,  0.2269,  0.1831,\n",
      "         0.1310,  0.2610], dtype=torch.float64, requires_grad=True)\n",
      "Parameter containing:\n",
      "tensor([[-0.2560, -0.2950, -0.2849, -0.0260, -0.2241, -0.0268, -0.0462,  0.1115,\n",
      "          0.1687,  0.0779],\n",
      "        [-0.1486, -0.2867, -0.1018, -0.1529,  0.0471, -0.1053, -0.2425,  0.2727,\n",
      "          0.2347,  0.1713],\n",
      "        [-0.1231,  0.1765,  0.2431, -0.0903,  0.0432, -0.0342, -0.0969,  0.1693,\n",
      "          0.0849,  0.3376],\n",
      "        [ 0.2023,  0.2712, -0.0645, -0.0123,  0.2540, -0.0631, -0.2581, -0.0699,\n",
      "         -0.1283, -0.1598],\n",
      "        [ 0.1414, -0.1609,  0.2886,  0.0182, -0.1661,  0.2303, -0.0527, -0.0437,\n",
      "          0.1993, -0.0025],\n",
      "        [-0.1698, -0.2863,  0.0174,  0.0708,  0.0059, -0.1735, -0.1358, -0.0030,\n",
      "          0.2493, -0.0368],\n",
      "        [ 0.0764, -0.0637, -0.1853,  0.0442,  0.0790,  0.0027,  0.2841,  0.0866,\n",
      "         -0.1090, -0.1509],\n",
      "        [ 0.2063, -0.0095, -0.0897, -0.2762, -0.2231,  0.0488, -0.0795, -0.1346,\n",
      "         -0.2135, -0.1235],\n",
      "        [-0.1746,  0.0231, -0.0559,  0.0887, -0.0457, -0.2133, -0.0603, -0.2741,\n",
      "          0.2144, -0.2335],\n",
      "        [ 0.0316,  0.2108,  0.2028,  0.1506, -0.0006, -0.0327, -0.1178,  0.2775,\n",
      "         -0.1608, -0.0596]], dtype=torch.float64, requires_grad=True)\n",
      "Parameter containing:\n",
      "tensor([-0.2552, -0.2223,  0.0160,  0.1279,  0.1309, -0.1918,  0.2257,  0.0816,\n",
      "        -0.0580,  0.2435], dtype=torch.float64, requires_grad=True)\n",
      "Parameter containing:\n",
      "tensor([[ 0.1193, -0.2323, -0.2051,  0.2170,  0.2918, -0.2339,  0.2824, -0.0699,\n",
      "         -0.1437,  0.0407],\n",
      "        [ 0.2165, -0.0975, -0.1137,  0.1571,  0.1339, -0.0575,  0.0486,  0.2228,\n",
      "          0.0827, -0.1369],\n",
      "        [ 0.0420,  0.2180,  0.0229, -0.1813, -0.2345, -0.0800, -0.0178, -0.0528,\n",
      "         -0.2487,  0.3122],\n",
      "        [ 0.2343, -0.0914,  0.1065, -0.1625,  0.1028, -0.2995,  0.1711, -0.0380,\n",
      "         -0.1271,  0.2514],\n",
      "        [ 0.1871,  0.2665,  0.2421,  0.1138,  0.0591,  0.0916, -0.0714, -0.1755,\n",
      "         -0.1698,  0.1833]], dtype=torch.float64, requires_grad=True)\n",
      "Parameter containing:\n",
      "tensor([ 0.0972, -0.2765, -0.0755,  0.0991,  0.3041], dtype=torch.float64,\n",
      "       requires_grad=True)\n",
      "Parameter containing:\n",
      "tensor([[-0.1897, -0.1424,  0.0580, -0.4189, -0.1372]], dtype=torch.float64,\n",
      "       requires_grad=True)\n",
      "Parameter containing:\n",
      "tensor([-0.2343], dtype=torch.float64, requires_grad=True)\n"
     ]
    }
   ],
   "source": [
    "for param in func.parameters():\n",
    "    print(param)"
   ]
  },
  {
   "cell_type": "code",
   "execution_count": 16,
   "metadata": {},
   "outputs": [],
   "source": [
    "def one_euler_backward_step(func,x_1,delta_t):\n",
    "    x = x_1.clone().detach()\n",
    "    x -= delta_t * func(x)\n",
    "    return x\n",
    "\n",
    "def one_adjoint_backward_step(func, x_1, a_1, delta_t):\n",
    "\n",
    "    a = a_1.clone().detach() \n",
    "    x = x_1.clone().detach()\n",
    "    a -= delta_t * a * jacobian(func, x)\n",
    "\n",
    "    return a\n",
    "\n",
    "\n",
    "\n",
    "def get_gradient_with_respect_to_params(func, x):\n",
    "    x = x.clone().detach()\n",
    "    func(x).mean().backward()\n",
    "    grads = []\n",
    "    for param in func.parameters():\n",
    "        grads.append(param.grad.view(-1))\n",
    "    grads = torch.cat(grads)\n",
    "    f.zero_grad #<--- doesn't work\n",
    "    return grads\n",
    "\n",
    "def get_dL_dtheta(func, a_1, x_1, t_0, t_1, delta_t):\n",
    "    time = torch.arange(start=t_0, end=t_1, step=delta_t, requires_grad=False)\n",
    "    a = a_1.clone().detach() \n",
    "    x = x_1.clone().detach()\n",
    "    result = torch.zeros( (a * get_gradient_with_respect_to_params(func, x)).shape)\n",
    "    for t in time:\n",
    "        result -= delta_t * a * get_gradient_with_respect_to_params(func, x)\n",
    "        a = one_adjoint_backward_step(func, x, a, delta_t)\n",
    "        x = one_euler_backward_step(func, x, delta_t)\n",
    "    return result\n",
    "\n",
    "\n",
    "def Loss_function(prediction):\n",
    "    return (1/2  *  (theta[-1] - prediction)**2)\n",
    "    "
   ]
  },
  {
   "cell_type": "code",
   "execution_count": 17,
   "metadata": {},
   "outputs": [
    {
     "ename": "NameError",
     "evalue": "name 'f' is not defined",
     "output_type": "error",
     "traceback": [
      "\u001b[1;31m---------------------------------------------------------------------------\u001b[0m",
      "\u001b[1;31mNameError\u001b[0m                                 Traceback (most recent call last)",
      "Cell \u001b[1;32mIn[17], line 1\u001b[0m\n\u001b[1;32m----> 1\u001b[0m x_1 \u001b[39m=\u001b[39m euler_forward(f, x_0, \u001b[39m0\u001b[39m, t_final,delta_t, \u001b[39mFalse\u001b[39;00m)\n\u001b[0;32m      2\u001b[0m x_1\n",
      "\u001b[1;31mNameError\u001b[0m: name 'f' is not defined"
     ]
    }
   ],
   "source": [
    "x_1 = euler_forward(f, x_0, 0, t_final,delta_t, False)\n",
    "x_1"
   ]
  },
  {
   "cell_type": "code",
   "execution_count": null,
   "metadata": {},
   "outputs": [
    {
     "data": {
      "text/plain": [
       "tensor([2.1752], dtype=torch.float64, grad_fn=<MulBackward0>)"
      ]
     },
     "execution_count": 10,
     "metadata": {},
     "output_type": "execute_result"
    }
   ],
   "source": [
    "loss = Loss_function(x_1)\n",
    "loss"
   ]
  },
  {
   "cell_type": "code",
   "execution_count": null,
   "metadata": {},
   "outputs": [
    {
     "data": {
      "text/plain": [
       "tensor([[-2.0857]], dtype=torch.float64)"
      ]
     },
     "execution_count": 11,
     "metadata": {},
     "output_type": "execute_result"
    }
   ],
   "source": [
    "a_1 = jacobian(Loss_function, x_1)\n",
    "a_1"
   ]
  },
  {
   "cell_type": "code",
   "execution_count": null,
   "metadata": {},
   "outputs": [
    {
     "data": {
      "text/plain": [
       "tensor([[  5182.3940,   2615.4062, -62377.1914,   3572.2505,   2093.1956,\n",
       "          20063.4766,    464.5010,   1353.3417,   1707.2321,   1040.1328,\n",
       "           3030.5242,   3822.8762,   1118.2527,   3258.1165,   4110.0825,\n",
       "           8105.8228,  18150.9785,  19514.4199,  11215.4150,  15596.4209,\n",
       "           8865.2666,  37163.9062]])"
      ]
     },
     "execution_count": 23,
     "metadata": {},
     "output_type": "execute_result"
    }
   ],
   "source": [
    "get_dL_dtheta(f, a_1, x_1, 0, t_final, delta_t)"
   ]
  },
  {
   "cell_type": "code",
   "execution_count": null,
   "metadata": {},
   "outputs": [],
   "source": [
    "for param in f.parameters():\n",
    "    param.data = nn.parameter.Parameter(torch.rand_like(param))\n",
    "\n",
    "# Sanity check-\n"
   ]
  },
  {
   "cell_type": "code",
   "execution_count": null,
   "metadata": {},
   "outputs": [
    {
     "name": "stdout",
     "output_type": "stream",
     "text": [
      "Parameter containing:\n",
      "tensor([[0.2703],\n",
      "        [0.6653],\n",
      "        [0.0603]], dtype=torch.float64, requires_grad=True)\n",
      "Parameter containing:\n",
      "tensor([0.0263, 0.2417, 0.4640], dtype=torch.float64, requires_grad=True)\n",
      "Parameter containing:\n",
      "tensor([[0.8103, 0.1916, 0.5303],\n",
      "        [0.8317, 0.3430, 0.2151],\n",
      "        [0.2263, 0.2908, 0.9295]], dtype=torch.float64, requires_grad=True)\n",
      "Parameter containing:\n",
      "tensor([0.3784, 0.6403, 0.1921], dtype=torch.float64, requires_grad=True)\n",
      "Parameter containing:\n",
      "tensor([[0.4109, 0.9200, 0.9891]], dtype=torch.float64, requires_grad=True)\n",
      "Parameter containing:\n",
      "tensor([0.0126], dtype=torch.float64, requires_grad=True)\n"
     ]
    }
   ],
   "source": [
    "for param in f.parameters():\n",
    "    print(param)"
   ]
  }
 ],
 "metadata": {
  "kernelspec": {
   "display_name": "Python 3",
   "language": "python",
   "name": "python3"
  },
  "language_info": {
   "codemirror_mode": {
    "name": "ipython",
    "version": 3
   },
   "file_extension": ".py",
   "mimetype": "text/x-python",
   "name": "python",
   "nbconvert_exporter": "python",
   "pygments_lexer": "ipython3",
   "version": "3.10.8"
  },
  "orig_nbformat": 4,
  "vscode": {
   "interpreter": {
    "hash": "e7370f93d1d0cde622a1f8e1c04877d8463912d04d973331ad4851f04de6915a"
   }
  }
 },
 "nbformat": 4,
 "nbformat_minor": 2
}

{
 "cells": [
  {
   "cell_type": "code",
   "execution_count": 7,
   "metadata": {},
   "outputs": [
    {
     "name": "stdout",
     "output_type": "stream",
     "text": [
      "Using cpu device\n"
     ]
    }
   ],
   "source": [
    "import math\n",
    "import numpy as np\n",
    "from IPython.display import clear_output\n",
    "from tqdm import tqdm_notebook as tqdm\n",
    "\n",
    "import matplotlib.pyplot as plt\n",
    "\n",
    "\n",
    "import torch\n",
    "#from torch import Tensor as tensor\n",
    "from torch import nn\n",
    "from torch.nn  import functional as F\n",
    "from torch.autograd import Variable\n",
    "\n",
    "from scipy.integrate import odeint\n",
    "from scipy.integrate import RK45\n",
    "\n",
    "\n",
    "from torch.autograd.functional import jacobian\n",
    "import random\n",
    "\n",
    "\n",
    "\n",
    "use_cuda = torch.cuda.is_available() #also worsk for AMD-ROCm\n",
    "device = \"cuda\" if torch.cuda.is_available() else \"cpu\"\n",
    "print(f\"Using {device} device\")\n"
   ]
  },
  {
   "cell_type": "markdown",
   "metadata": {},
   "source": [
    "# Pendelum\n",
    "$$\\frac{d^2 \\theta}{dt^2}  +  \\lambda\\frac{d\\theta}{dt} +  \\frac{g}{l}sin(\\theta) $$"
   ]
  },
  {
   "cell_type": "code",
   "execution_count": 8,
   "metadata": {},
   "outputs": [],
   "source": [
    "def pend(y,t,b,c):\n",
    "    theta, omega = y\n",
    "    dydt = [omega, -b*omega - c*np.sin(theta)]\n",
    "    return dydt\n",
    "\n",
    "b = 0.25\n",
    "c = 5\n",
    "\n",
    "theta_0 = np.pi\n",
    "omega_0 = 1\n",
    " \n",
    "y0 = [theta_0 , omega_0]\n",
    "\n",
    "t_final = 10\n",
    "\n",
    "t = np.arange(0, 10, 0.01)\n",
    "\n",
    "sol = odeint(pend,y0, t, args=(b,c))\n"
   ]
  },
  {
   "cell_type": "code",
   "execution_count": 9,
   "metadata": {},
   "outputs": [],
   "source": [
    "theta = 2*np.pi - sol[:, 0]\n",
    "omega = sol[:, 1]"
   ]
  },
  {
   "cell_type": "code",
   "execution_count": 10,
   "metadata": {},
   "outputs": [
    {
     "data": {
      "image/png": "[encoded data removed]",
      "text/plain": [
       "<Figure size 432x288 with 1 Axes>"
      ]
     },
     "metadata": {
      "needs_background": "light"
     },
     "output_type": "display_data"
    }
   ],
   "source": [
    "plt.plot(t, theta, 'b', label='theta(t)')\n",
    "plt.plot(t, omega, 'g', label='omega(t)')\n",
    "plt.legend(loc='best')\n",
    "plt.xlabel('t')\n",
    "plt.show()"
   ]
  },
  {
   "cell_type": "markdown",
   "metadata": {},
   "source": [
    "# Neural ODE with ajoint-sensitivity-method"
   ]
  },
  {
   "cell_type": "code",
   "execution_count": 11,
   "metadata": {},
   "outputs": [],
   "source": [
    "def euler_forward_batch(func, x,t, propagation_time, delta_t, return_seq=False):\n",
    "    time = torch.arange(start=0, end=propagation_time, step=delta_t, requires_grad=False)\n",
    "    x = x.clone().detach() \n",
    "    t = t.clone().detach()\n",
    "    if not return_seq:\n",
    "        for t in time:\n",
    "            x = x + delta_t * func(x,t).flatten()\n",
    "        return x\n",
    "    if return_seq:\n",
    "        outputs = []\n",
    "        for t in time:\n",
    "            x = x + delta_t * func(x,t).flatten()\n",
    "            outputs.append(x)\n",
    "        return torch.tensor(outputs)"
   ]
  },
  {
   "cell_type": "code",
   "execution_count": 12,
   "metadata": {},
   "outputs": [],
   "source": [
    "class PendelumNetwork(nn.Module):\n",
    "    def __init__(self):\n",
    "        super(PendelumNetwork, self).__init__()\n",
    "        self.linear_relu_stack = nn.Sequential(\n",
    "            nn.Linear(2, 5, dtype=float),\n",
    "            nn.ReLU(),\n",
    "            nn.Linear(5, 5, dtype=float),\n",
    "            nn.ReLU(),\n",
    "            nn.Linear(5, 1, dtype=float)\n",
    "        )\n",
    "    def forward(self,x,t): #f(x(t), t)\n",
    "        input_ = torch.zeros(2,len(x), dtype=float)\n",
    "        input_[0] = x\n",
    "        input_[1] = t\n",
    "        input_ = input_.T\n",
    "        return self.linear_relu_stack(input_)"
   ]
  },
  {
   "cell_type": "code",
   "execution_count": 33,
   "metadata": {},
   "outputs": [],
   "source": [
    "class ODEAdjoint(torch.autograd.Function):\n",
    "    @staticmethod\n",
    "    def forward(ctx, func, delta_t , x,t, propagation_time, return_seq=False):\n",
    "        with torch.no_grad():\n",
    "            if return_seq:\n",
    "                return euler_forward_batch(func, x,t, propagation_time, delta_t, return_seq)\n",
    "            else:\n",
    "                output = euler_forward_batch(func, x,t, propagation_time, delta_t, return_seq)\n",
    "                ctx.func = func\n",
    "                ctx.delta_t = delta_t\n",
    "                ctx.propagation_time = propagation_time\n",
    "                ctx.save_for_backward(x.clone(),t.clone(),output.clone())\n",
    "                return output\n",
    "        \n",
    "    \n",
    "    @staticmethod\n",
    "    def backward(ctx, dL_dz):\n",
    "\n",
    "        func = ctx.func\n",
    "        delta_t = ctx.delta_t\n",
    "        propagation_time = ctx.propagation_time\n",
    "        input_,x_1, t_0 = ctx.saved_tensors\n",
    "        a_1 = dL_dz\n",
    "        t_1 = t_0 + propagation_time\n",
    "\n",
    "        def one_adjoint_backward_step(func, x_1, t_1, a_1, delta_t):\n",
    "            a = a_1.clone().detach() \n",
    "            x = x_1.clone().detach()\n",
    "            t = t_1.clone().detach()\n",
    "            outputs = func(x,t)\n",
    "            a -= delta_t * torch.autograd.grad(outputs=outputs, inputs=x, grad_outputs=a)\n",
    "            return a\n",
    "\n",
    "        def one_euler_backward_step(func,x_1,t_1,delta_t):\n",
    "            x = x_1.clone().detach()\n",
    "            t = t_1.clone().detach()\n",
    "            x -= delta_t * func(x,t)\n",
    "            return x\n",
    "\n",
    "        def get_gradient_with_respect_to_params(func, x, t):\n",
    "            x = x.clone().detach()\n",
    "            t = t.clone().detach()\n",
    "            func(x,t).mean().backward()\n",
    "            grads = []\n",
    "            for param in func.parameters():\n",
    "                grads.append(param.grad.view(-1))\n",
    "            grads = torch.cat(grads)\n",
    "            return grads.flatten()\n",
    "\n",
    "        def get_dL_dp(func, a_1, x_1, t_1, delta_t):\n",
    "            time = torch.arange(start=0, end=propagation_time, step=delta_t, requires_grad=False)\n",
    "            a = a_1.clone().detach() \n",
    "            x = x_1.clone().detach()\n",
    "            result = torch.zeros( (a @ get_gradient_with_respect_to_params(func, x,t_1)).shape)\n",
    "            \n",
    "            for t in time:\n",
    "                result -= delta_t * a @ get_gradient_with_respect_to_params(func, x,t_1)\n",
    "                a = one_adjoint_backward_step(func, x,t, a, delta_t)\n",
    "                x = one_euler_backward_step(func, x,t, delta_t)\n",
    "                t_1 -= propagation_time#go backward in time\n",
    "            return result\n",
    "\n",
    "        return get_dL_dp(func,a_1,x_1, t_1, delta_t), None, None, None, None, None"
   ]
  },
  {
   "cell_type": "code",
   "execution_count": 14,
   "metadata": {},
   "outputs": [],
   "source": [
    "class NeuralODE(nn.Module):\n",
    "    def __init__(self, func, delta_t):\n",
    "        super(NeuralODE, self).__init__()\n",
    "        self.func = func\n",
    "        self.delta_t = delta_t\n",
    "    \n",
    "    def forward(self, x,t, propagation_time, return_seq=False):\n",
    "        return ODEAdjoint.apply(self.func, self.delta_t, x,t, propagation_time, return_seq)\n",
    "        "
   ]
  },
  {
   "cell_type": "code",
   "execution_count": 30,
   "metadata": {},
   "outputs": [
    {
     "name": "stdout",
     "output_type": "stream",
     "text": [
      "propagation_time,  0.25\n"
     ]
    },
    {
     "data": {
      "text/plain": [
       "tensor([[ 4.2000,  1.3950,  1.0055],\n",
       "        [ 7.9200, -0.0665, -0.4931],\n",
       "        [ 0.1100,  3.0320,  2.7592],\n",
       "        [ 8.0400, -0.2857, -0.6443],\n",
       "        [ 1.7800, -1.3997, -1.8317]], dtype=torch.float64)"
      ]
     },
     "execution_count": 30,
     "metadata": {},
     "output_type": "execute_result"
    }
   ],
   "source": [
    "\n",
    "N = 200\n",
    "diff_t = 25\n",
    "propagation_time = t[diff_t]\n",
    "\n",
    "x_i = []\n",
    "t_i = []\n",
    "x_f = []\n",
    "\n",
    "data_set = torch.zeros((3,N), dtype=float)\n",
    "\n",
    "\n",
    "\n",
    "while len(t_i) < N:\n",
    "\n",
    "    index = int(random.uniform(0, len(t)))\n",
    "\n",
    "    if t[index]+propagation_time > t[-1] or index+propagation_time >= len(theta):\n",
    "        continue\n",
    "\n",
    "    t_i.append(t[index]) \n",
    "    x_i.append(theta[index])\n",
    "    x_f.append(theta[index+diff_t])\n",
    "\n",
    "t_i = torch.tensor(t_i)\n",
    "x_i = torch.tensor(x_i)\n",
    "x_f = torch.tensor(x_f)\n",
    "\n",
    "#data normalization\n",
    "\n",
    "#x_i = x_i/np.pi\n",
    "#x_f = x_f/np.pi\n",
    "\n",
    "\n",
    "data_set[0] = t_i\n",
    "data_set[1] = x_i\n",
    "data_set[2] = x_f\n",
    "print(\"propagation_time, \", propagation_time)\n",
    "data_set = data_set.T\n",
    "data_set[:5]"
   ]
  },
  {
   "cell_type": "code",
   "execution_count": 16,
   "metadata": {},
   "outputs": [],
   "source": [
    "def createBatches(data_set, batch_size):\n",
    "    batches = []\n",
    "    number_of_batches = int(len(data_set)/batch_size)\n",
    "    for i in range(number_of_batches):\n",
    "        batches.append(data_set[i*batch_size:(i+1)*batch_size].T)\n",
    "    number_of_batches = len(batches)\n",
    "    return batches[:int(number_of_batches*0.75)], batches[int(number_of_batches*0.75):]\n"
   ]
  },
  {
   "cell_type": "code",
   "execution_count": 17,
   "metadata": {},
   "outputs": [
    {
     "data": {
      "text/plain": [
       "(tensor([ 0.2829, -0.6360,  0.9808, -0.5614, -1.6816,  2.6688,  0.7534,  3.0220,\n",
       "          2.9608, -1.6328, -1.5344, -0.4786, -1.0338, -0.4799,  0.9739, -0.1965,\n",
       "          0.7286, -1.0889, -1.2989, -0.9820,  0.0607, -0.4565,  1.2427,  0.1449,\n",
       "          1.3135, -0.7386,  0.8973,  2.8865, -0.7329, -0.7197,  0.0450, -1.9081,\n",
       "         -1.0147,  1.5407, -0.2954, -0.2506, -0.4522, -0.4234, -1.7539,  0.8189,\n",
       "          0.4826,  2.2138, -0.3516,  0.5006, -0.7700,  1.4868,  0.4081,  0.6529,\n",
       "          0.6315,  0.0053, -0.8787, -1.7975, -0.5216,  0.6994,  0.4319, -0.4741,\n",
       "         -1.0147,  0.6823, -1.7403,  1.2417,  2.5068,  0.9781, -0.5872, -1.3753],\n",
       "        dtype=torch.float64),\n",
       " tensor([4.7400, 8.9100, 7.0900, 8.2200, 2.5900, 0.4300, 7.4500, 0.1200, 0.1800,\n",
       "         2.6200, 1.8400, 8.1600, 5.8600, 9.0400, 7.1700, 9.2300, 6.7600, 5.8100,\n",
       "         1.7400, 5.2800, 4.8200, 3.0700, 1.0500, 7.8100, 4.2700, 6.0500, 4.5000,\n",
       "         0.2500, 8.8000, 6.0600, 3.2200, 2.3800, 2.8900, 0.9600, 6.2600, 8.0200,\n",
       "         6.1900, 3.0800, 2.5400, 6.8300, 9.7000, 0.7000, 9.1300, 4.6600, 8.7400,\n",
       "         3.9200, 7.6700, 6.7100, 4.6100, 4.8400, 1.6000, 2.0000, 1.5000, 6.7400,\n",
       "         3.3400, 6.1800, 2.8900, 4.5900, 2.5500, 4.3200, 0.5400, 7.1500, 5.0700,\n",
       "         1.7700], dtype=torch.float64))"
      ]
     },
     "execution_count": 17,
     "metadata": {},
     "output_type": "execute_result"
    }
   ],
   "source": [
    "train, test = createBatches(data_set, 64)\n",
    "\n",
    "t_i, x_i, x_f = train[0]\n",
    "x_i, t_i"
   ]
  },
  {
   "cell_type": "code",
   "execution_count": 40,
   "metadata": {},
   "outputs": [
    {
     "name": "stdout",
     "output_type": "stream",
     "text": [
      "0 \t training  0.27047576057112976\n",
      " \t validation  1.565708317887554\n",
      "_________\n",
      "10 \t training  0.27047576057112976\n",
      " \t validation  1.565708317887554\n",
      "_________\n",
      "20 \t training  0.27047576057112976\n",
      " \t validation  1.565708317887554\n",
      "_________\n",
      "30 \t training  0.27047576057112976\n",
      " \t validation  1.565708317887554\n",
      "_________\n",
      "40 \t training  0.27047576057112976\n",
      " \t validation  1.565708317887554\n",
      "_________\n",
      "50 \t training  0.27047576057112976\n",
      " \t validation  1.565708317887554\n",
      "_________\n",
      "60 \t training  0.27047576057112976\n",
      " \t validation  1.565708317887554\n",
      "_________\n",
      "70 \t training  0.27047576057112976\n",
      " \t validation  1.565708317887554\n",
      "_________\n",
      "80 \t training  0.27047576057112976\n",
      " \t validation  1.565708317887554\n",
      "_________\n",
      "90 \t training  0.27047576057112976\n",
      " \t validation  1.565708317887554\n",
      "_________\n",
      "100 \t training  0.27047576057112976\n",
      " \t validation  1.565708317887554\n",
      "_________\n",
      "110 \t training  0.27047576057112976\n",
      " \t validation  1.565708317887554\n",
      "_________\n",
      "120 \t training  0.27047576057112976\n",
      " \t validation  1.565708317887554\n",
      "_________\n",
      "130 \t training  0.27047576057112976\n",
      " \t validation  1.565708317887554\n",
      "_________\n",
      "140 \t training  0.27047576057112976\n",
      " \t validation  1.565708317887554\n",
      "_________\n",
      "150 \t training  0.27047576057112976\n",
      " \t validation  1.565708317887554\n",
      "_________\n",
      "160 \t training  0.27047576057112976\n",
      " \t validation  1.565708317887554\n",
      "_________\n",
      "170 \t training  0.27047576057112976\n",
      " \t validation  1.565708317887554\n",
      "_________\n",
      "180 \t training  0.27047576057112976\n",
      " \t validation  1.565708317887554\n",
      "_________\n",
      "190 \t training  0.27047576057112976\n",
      " \t validation  1.565708317887554\n",
      "_________\n",
      "200 \t training  0.27047576057112976\n",
      " \t validation  1.565708317887554\n",
      "_________\n",
      "210 \t training  0.27047576057112976\n",
      " \t validation  1.565708317887554\n",
      "_________\n",
      "220 \t training  0.27047576057112976\n",
      " \t validation  1.565708317887554\n",
      "_________\n",
      "230 \t training  0.27047576057112976\n",
      " \t validation  1.565708317887554\n",
      "_________\n",
      "240 \t training  0.27047576057112976\n",
      " \t validation  1.565708317887554\n",
      "_________\n",
      "250 \t training  0.27047576057112976\n",
      " \t validation  1.565708317887554\n",
      "_________\n",
      "260 \t training  0.27047576057112976\n",
      " \t validation  1.565708317887554\n",
      "_________\n",
      "270 \t training  0.27047576057112976\n",
      " \t validation  1.565708317887554\n",
      "_________\n",
      "280 \t training  0.27047576057112976\n",
      " \t validation  1.565708317887554\n",
      "_________\n",
      "290 \t training  0.27047576057112976\n",
      " \t validation  1.565708317887554\n",
      "_________\n",
      "300 \t training  0.27047576057112976\n",
      " \t validation  1.565708317887554\n",
      "_________\n",
      "310 \t training  0.27047576057112976\n",
      " \t validation  1.565708317887554\n",
      "_________\n",
      "320 \t training  0.27047576057112976\n",
      " \t validation  1.565708317887554\n",
      "_________\n",
      "330 \t training  0.27047576057112976\n",
      " \t validation  1.565708317887554\n",
      "_________\n",
      "340 \t training  0.27047576057112976\n",
      " \t validation  1.565708317887554\n",
      "_________\n",
      "350 \t training  0.27047576057112976\n",
      " \t validation  1.565708317887554\n",
      "_________\n",
      "360 \t training  0.27047576057112976\n",
      " \t validation  1.565708317887554\n",
      "_________\n",
      "370 \t training  0.27047576057112976\n",
      " \t validation  1.565708317887554\n",
      "_________\n",
      "380 \t training  0.27047576057112976\n",
      " \t validation  1.565708317887554\n",
      "_________\n",
      "390 \t training  0.27047576057112976\n",
      " \t validation  1.565708317887554\n",
      "_________\n",
      "400 \t training  0.27047576057112976\n",
      " \t validation  1.565708317887554\n",
      "_________\n",
      "410 \t training  0.27047576057112976\n",
      " \t validation  1.565708317887554\n",
      "_________\n",
      "420 \t training  0.27047576057112976\n",
      " \t validation  1.565708317887554\n",
      "_________\n",
      "430 \t training  0.27047576057112976\n",
      " \t validation  1.565708317887554\n",
      "_________\n",
      "440 \t training  0.27047576057112976\n",
      " \t validation  1.565708317887554\n",
      "_________\n",
      "450 \t training  0.27047576057112976\n",
      " \t validation  1.565708317887554\n",
      "_________\n",
      "460 \t training  0.27047576057112976\n",
      " \t validation  1.565708317887554\n",
      "_________\n",
      "470 \t training  0.27047576057112976\n",
      " \t validation  1.565708317887554\n",
      "_________\n",
      "480 \t training  0.27047576057112976\n",
      " \t validation  1.565708317887554\n",
      "_________\n",
      "490 \t training  0.27047576057112976\n",
      " \t validation  1.565708317887554\n",
      "_________\n"
     ]
    }
   ],
   "source": [
    "#training\n",
    "epoch = 500\n",
    "delta_t = 0.01\n",
    "\n",
    "func = PendelumNetwork()\n",
    "model = NeuralODE(func, delta_t)\n",
    "optimizer = torch.optim.Adam(model.parameters(), lr=0.01)\n",
    "\n",
    "\n",
    "for k in range(epoch):\n",
    "    avg_los = 0\n",
    "    for train_batch in train:\n",
    "        t_i, x_i, real_value = train_batch\n",
    "        prediction = model(x_i, t_i, propagation_time).requires_grad_(True)\n",
    "        loss = 1/2 * (prediction - real_value)@(prediction - real_value)\n",
    "        optimizer.zero_grad()\n",
    "        loss.backward()\n",
    "        optimizer.step()\n",
    "        avg_los += loss.item()\n",
    "    if k%10==0:\n",
    "        avg_los_2 = 0\n",
    "        for test_batch in test:\n",
    "            t_i, x_i, real_value = test_batch\n",
    "            prediction_ = model(x_i, t_i, propagation_time)\n",
    "            loss_ = 1/2 * (prediction - real_value)@(prediction - real_value)\n",
    "            avg_los_2 += loss_.item()\n",
    "\n",
    "        avg_los = avg_los/64\n",
    "        avg_los_2 = avg_los_2/64\n",
    "        print(k , \"\\t training \",avg_los)\n",
    "        print(\" \\t validation \",avg_los_2)\n",
    "        print(\"_________\")\n"
   ]
  },
  {
   "cell_type": "code",
   "execution_count": 41,
   "metadata": {},
   "outputs": [
    {
     "data": {
      "image/png": "[encoded data removed]",
      "text/plain": [
       "<Figure size 432x288 with 1 Axes>"
      ]
     },
     "metadata": {
      "needs_background": "light"
     },
     "output_type": "display_data"
    }
   ],
   "source": [
    "prediction = model(torch.tensor([np.pi],dtype=float), torch.tensor(0), 10, True)\n",
    "plt.plot(np.arange(0, 10, delta_t),prediction, label=\"prediction\")\n",
    "plt.plot(t, theta, color='b',label=\"real\")\n",
    "plt.legend()\n",
    "plt.show()"
   ]
  }
 ],
 "metadata": {
  "kernelspec": {
   "display_name": "Python 3",
   "language": "python",
   "name": "python3"
  },
  "language_info": {
   "codemirror_mode": {
    "name": "ipython",
    "version": 3
   },
   "file_extension": ".py",
   "mimetype": "text/x-python",
   "name": "python",
   "nbconvert_exporter": "python",
   "pygments_lexer": "ipython3",
   "version": "3.10.8"
  },
  "orig_nbformat": 4,
  "vscode": {
   "interpreter": {
    "hash": "e7370f93d1d0cde622a1f8e1c04877d8463912d04d973331ad4851f04de6915a"
   }
  }
 },
 "nbformat": 4,
 "nbformat_minor": 2
}
